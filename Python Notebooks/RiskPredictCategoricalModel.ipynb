{
  "nbformat": 4,
  "nbformat_minor": 0,
  "metadata": {
    "colab": {
      "provenance": []
    },
    "kernelspec": {
      "name": "python3",
      "display_name": "Python 3"
    },
    "language_info": {
      "name": "python"
    }
  },
  "cells": [
    {
      "cell_type": "code",
      "execution_count": 1,
      "metadata": {
        "colab": {
          "base_uri": "https://localhost:8080/",
          "height": 422
        },
        "id": "DLjAjwtzxcBW",
        "outputId": "127d9ab3-e80f-463b-9bc5-7b47a48644f4"
      },
      "outputs": [
        {
          "output_type": "stream",
          "name": "stderr",
          "text": [
            "<ipython-input-1-1ddb9d5b571a>:5: FutureWarning: The default value of numeric_only in DataFrame.corr is deprecated. In a future version, it will default to False. Select only valid columns or specify the value of numeric_only to silence this warning.\n",
            "  dataset.corr()\n"
          ]
        },
        {
          "output_type": "execute_result",
          "data": {
            "text/plain": [
              "                        Unnamed: 0       Age  Minor Pathology  \\\n",
              "Unnamed: 0                1.000000  0.004579        -0.000652   \n",
              "Age                       0.004579  1.000000        -0.007640   \n",
              "Minor Pathology          -0.000652 -0.007640         1.000000   \n",
              "Psychiatric Disorder      0.004334  0.034249        -0.007206   \n",
              "Diabetes                  0.004256  0.043504        -0.003965   \n",
              "Cardiovascular Disease    0.002325  0.629351        -0.005279   \n",
              "Renal Disease             0.005357  0.358691        -0.000892   \n",
              "Pregnant                  0.005933 -0.084967         0.005952   \n",
              "Risk Score                0.005591  0.686285         0.085043   \n",
              "\n",
              "                        Psychiatric Disorder  Diabetes  \\\n",
              "Unnamed: 0                          0.004334  0.004256   \n",
              "Age                                 0.034249  0.043504   \n",
              "Minor Pathology                    -0.007206 -0.003965   \n",
              "Psychiatric Disorder                1.000000 -0.006531   \n",
              "Diabetes                           -0.006531  1.000000   \n",
              "Cardiovascular Disease              0.021346  0.073286   \n",
              "Renal Disease                       0.002389  0.130016   \n",
              "Pregnant                            0.004607 -0.003134   \n",
              "Risk Score                          0.031177  0.229552   \n",
              "\n",
              "                        Cardiovascular Disease  Renal Disease  Pregnant  \\\n",
              "Unnamed: 0                            0.002325       0.005357  0.005933   \n",
              "Age                                   0.629351       0.358691 -0.084967   \n",
              "Minor Pathology                      -0.005279      -0.000892  0.005952   \n",
              "Psychiatric Disorder                  0.021346       0.002389  0.004607   \n",
              "Diabetes                              0.073286       0.130016 -0.003134   \n",
              "Cardiovascular Disease                1.000000       0.238112 -0.105681   \n",
              "Renal Disease                         0.238112       1.000000 -0.034041   \n",
              "Pregnant                             -0.105681      -0.034041  1.000000   \n",
              "Risk Score                            0.638568       0.676353  0.046006   \n",
              "\n",
              "                        Risk Score  \n",
              "Unnamed: 0                0.005591  \n",
              "Age                       0.686285  \n",
              "Minor Pathology           0.085043  \n",
              "Psychiatric Disorder      0.031177  \n",
              "Diabetes                  0.229552  \n",
              "Cardiovascular Disease    0.638568  \n",
              "Renal Disease             0.676353  \n",
              "Pregnant                  0.046006  \n",
              "Risk Score                1.000000  "
            ],
            "text/html": [
              "\n",
              "  <div id=\"df-beab6bd2-5ea8-45e4-9fb2-2ca9ec7736dc\" class=\"colab-df-container\">\n",
              "    <div>\n",
              "<style scoped>\n",
              "    .dataframe tbody tr th:only-of-type {\n",
              "        vertical-align: middle;\n",
              "    }\n",
              "\n",
              "    .dataframe tbody tr th {\n",
              "        vertical-align: top;\n",
              "    }\n",
              "\n",
              "    .dataframe thead th {\n",
              "        text-align: right;\n",
              "    }\n",
              "</style>\n",
              "<table border=\"1\" class=\"dataframe\">\n",
              "  <thead>\n",
              "    <tr style=\"text-align: right;\">\n",
              "      <th></th>\n",
              "      <th>Unnamed: 0</th>\n",
              "      <th>Age</th>\n",
              "      <th>Minor Pathology</th>\n",
              "      <th>Psychiatric Disorder</th>\n",
              "      <th>Diabetes</th>\n",
              "      <th>Cardiovascular Disease</th>\n",
              "      <th>Renal Disease</th>\n",
              "      <th>Pregnant</th>\n",
              "      <th>Risk Score</th>\n",
              "    </tr>\n",
              "  </thead>\n",
              "  <tbody>\n",
              "    <tr>\n",
              "      <th>Unnamed: 0</th>\n",
              "      <td>1.000000</td>\n",
              "      <td>0.004579</td>\n",
              "      <td>-0.000652</td>\n",
              "      <td>0.004334</td>\n",
              "      <td>0.004256</td>\n",
              "      <td>0.002325</td>\n",
              "      <td>0.005357</td>\n",
              "      <td>0.005933</td>\n",
              "      <td>0.005591</td>\n",
              "    </tr>\n",
              "    <tr>\n",
              "      <th>Age</th>\n",
              "      <td>0.004579</td>\n",
              "      <td>1.000000</td>\n",
              "      <td>-0.007640</td>\n",
              "      <td>0.034249</td>\n",
              "      <td>0.043504</td>\n",
              "      <td>0.629351</td>\n",
              "      <td>0.358691</td>\n",
              "      <td>-0.084967</td>\n",
              "      <td>0.686285</td>\n",
              "    </tr>\n",
              "    <tr>\n",
              "      <th>Minor Pathology</th>\n",
              "      <td>-0.000652</td>\n",
              "      <td>-0.007640</td>\n",
              "      <td>1.000000</td>\n",
              "      <td>-0.007206</td>\n",
              "      <td>-0.003965</td>\n",
              "      <td>-0.005279</td>\n",
              "      <td>-0.000892</td>\n",
              "      <td>0.005952</td>\n",
              "      <td>0.085043</td>\n",
              "    </tr>\n",
              "    <tr>\n",
              "      <th>Psychiatric Disorder</th>\n",
              "      <td>0.004334</td>\n",
              "      <td>0.034249</td>\n",
              "      <td>-0.007206</td>\n",
              "      <td>1.000000</td>\n",
              "      <td>-0.006531</td>\n",
              "      <td>0.021346</td>\n",
              "      <td>0.002389</td>\n",
              "      <td>0.004607</td>\n",
              "      <td>0.031177</td>\n",
              "    </tr>\n",
              "    <tr>\n",
              "      <th>Diabetes</th>\n",
              "      <td>0.004256</td>\n",
              "      <td>0.043504</td>\n",
              "      <td>-0.003965</td>\n",
              "      <td>-0.006531</td>\n",
              "      <td>1.000000</td>\n",
              "      <td>0.073286</td>\n",
              "      <td>0.130016</td>\n",
              "      <td>-0.003134</td>\n",
              "      <td>0.229552</td>\n",
              "    </tr>\n",
              "    <tr>\n",
              "      <th>Cardiovascular Disease</th>\n",
              "      <td>0.002325</td>\n",
              "      <td>0.629351</td>\n",
              "      <td>-0.005279</td>\n",
              "      <td>0.021346</td>\n",
              "      <td>0.073286</td>\n",
              "      <td>1.000000</td>\n",
              "      <td>0.238112</td>\n",
              "      <td>-0.105681</td>\n",
              "      <td>0.638568</td>\n",
              "    </tr>\n",
              "    <tr>\n",
              "      <th>Renal Disease</th>\n",
              "      <td>0.005357</td>\n",
              "      <td>0.358691</td>\n",
              "      <td>-0.000892</td>\n",
              "      <td>0.002389</td>\n",
              "      <td>0.130016</td>\n",
              "      <td>0.238112</td>\n",
              "      <td>1.000000</td>\n",
              "      <td>-0.034041</td>\n",
              "      <td>0.676353</td>\n",
              "    </tr>\n",
              "    <tr>\n",
              "      <th>Pregnant</th>\n",
              "      <td>0.005933</td>\n",
              "      <td>-0.084967</td>\n",
              "      <td>0.005952</td>\n",
              "      <td>0.004607</td>\n",
              "      <td>-0.003134</td>\n",
              "      <td>-0.105681</td>\n",
              "      <td>-0.034041</td>\n",
              "      <td>1.000000</td>\n",
              "      <td>0.046006</td>\n",
              "    </tr>\n",
              "    <tr>\n",
              "      <th>Risk Score</th>\n",
              "      <td>0.005591</td>\n",
              "      <td>0.686285</td>\n",
              "      <td>0.085043</td>\n",
              "      <td>0.031177</td>\n",
              "      <td>0.229552</td>\n",
              "      <td>0.638568</td>\n",
              "      <td>0.676353</td>\n",
              "      <td>0.046006</td>\n",
              "      <td>1.000000</td>\n",
              "    </tr>\n",
              "  </tbody>\n",
              "</table>\n",
              "</div>\n",
              "    <div class=\"colab-df-buttons\">\n",
              "\n",
              "  <div class=\"colab-df-container\">\n",
              "    <button class=\"colab-df-convert\" onclick=\"convertToInteractive('df-beab6bd2-5ea8-45e4-9fb2-2ca9ec7736dc')\"\n",
              "            title=\"Convert this dataframe to an interactive table.\"\n",
              "            style=\"display:none;\">\n",
              "\n",
              "  <svg xmlns=\"http://www.w3.org/2000/svg\" height=\"24px\" viewBox=\"0 -960 960 960\">\n",
              "    <path d=\"M120-120v-720h720v720H120Zm60-500h600v-160H180v160Zm220 220h160v-160H400v160Zm0 220h160v-160H400v160ZM180-400h160v-160H180v160Zm440 0h160v-160H620v160ZM180-180h160v-160H180v160Zm440 0h160v-160H620v160Z\"/>\n",
              "  </svg>\n",
              "    </button>\n",
              "\n",
              "  <style>\n",
              "    .colab-df-container {\n",
              "      display:flex;\n",
              "      gap: 12px;\n",
              "    }\n",
              "\n",
              "    .colab-df-convert {\n",
              "      background-color: #E8F0FE;\n",
              "      border: none;\n",
              "      border-radius: 50%;\n",
              "      cursor: pointer;\n",
              "      display: none;\n",
              "      fill: #1967D2;\n",
              "      height: 32px;\n",
              "      padding: 0 0 0 0;\n",
              "      width: 32px;\n",
              "    }\n",
              "\n",
              "    .colab-df-convert:hover {\n",
              "      background-color: #E2EBFA;\n",
              "      box-shadow: 0px 1px 2px rgba(60, 64, 67, 0.3), 0px 1px 3px 1px rgba(60, 64, 67, 0.15);\n",
              "      fill: #174EA6;\n",
              "    }\n",
              "\n",
              "    .colab-df-buttons div {\n",
              "      margin-bottom: 4px;\n",
              "    }\n",
              "\n",
              "    [theme=dark] .colab-df-convert {\n",
              "      background-color: #3B4455;\n",
              "      fill: #D2E3FC;\n",
              "    }\n",
              "\n",
              "    [theme=dark] .colab-df-convert:hover {\n",
              "      background-color: #434B5C;\n",
              "      box-shadow: 0px 1px 3px 1px rgba(0, 0, 0, 0.15);\n",
              "      filter: drop-shadow(0px 1px 2px rgba(0, 0, 0, 0.3));\n",
              "      fill: #FFFFFF;\n",
              "    }\n",
              "  </style>\n",
              "\n",
              "    <script>\n",
              "      const buttonEl =\n",
              "        document.querySelector('#df-beab6bd2-5ea8-45e4-9fb2-2ca9ec7736dc button.colab-df-convert');\n",
              "      buttonEl.style.display =\n",
              "        google.colab.kernel.accessAllowed ? 'block' : 'none';\n",
              "\n",
              "      async function convertToInteractive(key) {\n",
              "        const element = document.querySelector('#df-beab6bd2-5ea8-45e4-9fb2-2ca9ec7736dc');\n",
              "        const dataTable =\n",
              "          await google.colab.kernel.invokeFunction('convertToInteractive',\n",
              "                                                    [key], {});\n",
              "        if (!dataTable) return;\n",
              "\n",
              "        const docLinkHtml = 'Like what you see? Visit the ' +\n",
              "          '<a target=\"_blank\" href=https://colab.research.google.com/notebooks/data_table.ipynb>data table notebook</a>'\n",
              "          + ' to learn more about interactive tables.';\n",
              "        element.innerHTML = '';\n",
              "        dataTable['output_type'] = 'display_data';\n",
              "        await google.colab.output.renderOutput(dataTable, element);\n",
              "        const docLink = document.createElement('div');\n",
              "        docLink.innerHTML = docLinkHtml;\n",
              "        element.appendChild(docLink);\n",
              "      }\n",
              "    </script>\n",
              "  </div>\n",
              "\n",
              "\n",
              "<div id=\"df-5b65261b-7f14-4d99-a864-d11e270cb320\">\n",
              "  <button class=\"colab-df-quickchart\" onclick=\"quickchart('df-5b65261b-7f14-4d99-a864-d11e270cb320')\"\n",
              "            title=\"Suggest charts.\"\n",
              "            style=\"display:none;\">\n",
              "\n",
              "<svg xmlns=\"http://www.w3.org/2000/svg\" height=\"24px\"viewBox=\"0 0 24 24\"\n",
              "     width=\"24px\">\n",
              "    <g>\n",
              "        <path d=\"M19 3H5c-1.1 0-2 .9-2 2v14c0 1.1.9 2 2 2h14c1.1 0 2-.9 2-2V5c0-1.1-.9-2-2-2zM9 17H7v-7h2v7zm4 0h-2V7h2v10zm4 0h-2v-4h2v4z\"/>\n",
              "    </g>\n",
              "</svg>\n",
              "  </button>\n",
              "\n",
              "<style>\n",
              "  .colab-df-quickchart {\n",
              "      --bg-color: #E8F0FE;\n",
              "      --fill-color: #1967D2;\n",
              "      --hover-bg-color: #E2EBFA;\n",
              "      --hover-fill-color: #174EA6;\n",
              "      --disabled-fill-color: #AAA;\n",
              "      --disabled-bg-color: #DDD;\n",
              "  }\n",
              "\n",
              "  [theme=dark] .colab-df-quickchart {\n",
              "      --bg-color: #3B4455;\n",
              "      --fill-color: #D2E3FC;\n",
              "      --hover-bg-color: #434B5C;\n",
              "      --hover-fill-color: #FFFFFF;\n",
              "      --disabled-bg-color: #3B4455;\n",
              "      --disabled-fill-color: #666;\n",
              "  }\n",
              "\n",
              "  .colab-df-quickchart {\n",
              "    background-color: var(--bg-color);\n",
              "    border: none;\n",
              "    border-radius: 50%;\n",
              "    cursor: pointer;\n",
              "    display: none;\n",
              "    fill: var(--fill-color);\n",
              "    height: 32px;\n",
              "    padding: 0;\n",
              "    width: 32px;\n",
              "  }\n",
              "\n",
              "  .colab-df-quickchart:hover {\n",
              "    background-color: var(--hover-bg-color);\n",
              "    box-shadow: 0 1px 2px rgba(60, 64, 67, 0.3), 0 1px 3px 1px rgba(60, 64, 67, 0.15);\n",
              "    fill: var(--button-hover-fill-color);\n",
              "  }\n",
              "\n",
              "  .colab-df-quickchart-complete:disabled,\n",
              "  .colab-df-quickchart-complete:disabled:hover {\n",
              "    background-color: var(--disabled-bg-color);\n",
              "    fill: var(--disabled-fill-color);\n",
              "    box-shadow: none;\n",
              "  }\n",
              "\n",
              "  .colab-df-spinner {\n",
              "    border: 2px solid var(--fill-color);\n",
              "    border-color: transparent;\n",
              "    border-bottom-color: var(--fill-color);\n",
              "    animation:\n",
              "      spin 1s steps(1) infinite;\n",
              "  }\n",
              "\n",
              "  @keyframes spin {\n",
              "    0% {\n",
              "      border-color: transparent;\n",
              "      border-bottom-color: var(--fill-color);\n",
              "      border-left-color: var(--fill-color);\n",
              "    }\n",
              "    20% {\n",
              "      border-color: transparent;\n",
              "      border-left-color: var(--fill-color);\n",
              "      border-top-color: var(--fill-color);\n",
              "    }\n",
              "    30% {\n",
              "      border-color: transparent;\n",
              "      border-left-color: var(--fill-color);\n",
              "      border-top-color: var(--fill-color);\n",
              "      border-right-color: var(--fill-color);\n",
              "    }\n",
              "    40% {\n",
              "      border-color: transparent;\n",
              "      border-right-color: var(--fill-color);\n",
              "      border-top-color: var(--fill-color);\n",
              "    }\n",
              "    60% {\n",
              "      border-color: transparent;\n",
              "      border-right-color: var(--fill-color);\n",
              "    }\n",
              "    80% {\n",
              "      border-color: transparent;\n",
              "      border-right-color: var(--fill-color);\n",
              "      border-bottom-color: var(--fill-color);\n",
              "    }\n",
              "    90% {\n",
              "      border-color: transparent;\n",
              "      border-bottom-color: var(--fill-color);\n",
              "    }\n",
              "  }\n",
              "</style>\n",
              "\n",
              "  <script>\n",
              "    async function quickchart(key) {\n",
              "      const quickchartButtonEl =\n",
              "        document.querySelector('#' + key + ' button');\n",
              "      quickchartButtonEl.disabled = true;  // To prevent multiple clicks.\n",
              "      quickchartButtonEl.classList.add('colab-df-spinner');\n",
              "      try {\n",
              "        const charts = await google.colab.kernel.invokeFunction(\n",
              "            'suggestCharts', [key], {});\n",
              "      } catch (error) {\n",
              "        console.error('Error during call to suggestCharts:', error);\n",
              "      }\n",
              "      quickchartButtonEl.classList.remove('colab-df-spinner');\n",
              "      quickchartButtonEl.classList.add('colab-df-quickchart-complete');\n",
              "    }\n",
              "    (() => {\n",
              "      let quickchartButtonEl =\n",
              "        document.querySelector('#df-5b65261b-7f14-4d99-a864-d11e270cb320 button');\n",
              "      quickchartButtonEl.style.display =\n",
              "        google.colab.kernel.accessAllowed ? 'block' : 'none';\n",
              "    })();\n",
              "  </script>\n",
              "</div>\n",
              "    </div>\n",
              "  </div>\n"
            ]
          },
          "metadata": {},
          "execution_count": 1
        }
      ],
      "source": [
        "import pandas as pd\n",
        "\n",
        "dataset = pd.read_csv('SyntheticFrenchPopulation.csv')\n",
        "\n",
        "dataset.corr()"
      ]
    },
    {
      "cell_type": "markdown",
      "source": [
        "# Classification Method\n",
        "* Using Quartiles to define risk level"
      ],
      "metadata": {
        "id": "71US6qQ1jiFT"
      }
    },
    {
      "cell_type": "code",
      "source": [
        "from matplotlib import pyplot as plt\n",
        "from scipy.stats import norm\n",
        "import numpy as np\n",
        "\n",
        "x = dataset['Risk Score']\n",
        "\n",
        "q1 = np.percentile(x, 25)\n",
        "q2 = np.percentile(x, 50)  # This is also the median\n",
        "q3 = np.percentile(x, 75)\n",
        "\n",
        "plt.fill_between(x, 0, 5210, where=(x < q1), color='green', alpha=0.005, label='Low Risk')\n",
        "plt.fill_between(x, 0, 5210, where=((x > q1) & (x < q2)), color='yellow', alpha=0.01, label='At Risk')\n",
        "plt.fill_between(x, 0, 5210, where=((x > q2) & (x < q3)), color='orange', alpha=0.01, label='High Risk')\n",
        "plt.fill_between(x, 0, 5210, where=(x > q3), color='red', alpha=0.01, label='Very High Risk')\n",
        "\n",
        "plt.hist(x, bins=10, label='Histogram', color='white', edgecolor='k', alpha=0.7)\n",
        "plt.xticks([q1, q2, q3], [round(q1, 2), round(q2, 2), round(q3, 2)])\n",
        "\n",
        "\n",
        "plt.axvline(q1, color='g', linestyle='--', label='Q1 (25th percentile)')\n",
        "plt.axvline(q2, color='y', linestyle='--', label='Q2 (50th percentile, median)')\n",
        "plt.axvline(q3, color='orange', linestyle='--', label='Q3 (75th percentile)')\n",
        "\n",
        "\n",
        "print(f\"Low Risk range: 0-{round(q1, 2)}\")\n",
        "print(f\"At Risk range: {round(q1, 2)}-{round(q2, 2)}\")\n",
        "print(f\"High Risk range: {round(q2, 2)}-{round(q3, 2)}\")\n",
        "print(f\"Very High Risk range: {round(q3, 2)}-1.0\")"
      ],
      "metadata": {
        "colab": {
          "base_uri": "https://localhost:8080/",
          "height": 501
        },
        "id": "4119jV_92Jyb",
        "outputId": "2b9bab50-1e8e-4a9b-d324-3b7f9da72117"
      },
      "execution_count": 2,
      "outputs": [
        {
          "output_type": "stream",
          "name": "stdout",
          "text": [
            "Low Risk range: 0-0.19\n",
            "At Risk range: 0.19-0.37\n",
            "High Risk range: 0.37-0.58\n",
            "Very High Risk range: 0.58-1.0\n"
          ]
        },
        {
          "output_type": "display_data",
          "data": {
            "text/plain": [
              "<Figure size 640x480 with 1 Axes>"
            ],
            "image/png": "[encoded data removed]"
          },
          "metadata": {}
        }
      ]
    },
    {
      "cell_type": "code",
      "source": [
        "dataset['Risk'] = dataset['Risk Score'].apply(lambda x: 'Low Risk' if x <= 0.19 else\n",
        "                                                        'Moderate Risk' if 0.19 < x <= 0.37 else\n",
        "                                                        'High Risk' if 0.37 < x <= 0.58 else\n",
        "                                                        'Very High Risk')"
      ],
      "metadata": {
        "id": "wsCKddck6HM7"
      },
      "execution_count": 3,
      "outputs": []
    },
    {
      "cell_type": "markdown",
      "source": [
        "# Classification Decision Tree\n",
        "\n",
        "* Classification Report\n",
        "* Confusion Matrix\n",
        "* Observations & Insights\n",
        "* Tree Structure\n",
        "* Feature Importance"
      ],
      "metadata": {
        "id": "2F-e1LKmCRth"
      }
    },
    {
      "cell_type": "code",
      "source": [
        "dataset['Gender'] = dataset['Gender'].apply(lambda x: 0 if x=='Female' else 1)\n",
        "dataset = dataset.drop('Age Group', axis=1)"
      ],
      "metadata": {
        "id": "MZhyPlsnDyE5"
      },
      "execution_count": 4,
      "outputs": []
    },
    {
      "cell_type": "code",
      "source": [
        "from sklearn.model_selection import train_test_split\n",
        "from sklearn.tree import DecisionTreeClassifier\n",
        "from sklearn.metrics import accuracy_score, classification_report\n",
        "\n",
        "X = dataset.drop(['Risk Score', 'Risk'], axis=1)\n",
        "X = X.drop('Unnamed: 0', axis=1)\n",
        "y = dataset['Risk']\n",
        "\n",
        "X_train, X_test, y_train, y_test = train_test_split(X, y, test_size=0.2, random_state=42)\n",
        "\n",
        "clf = DecisionTreeClassifier(random_state=42, max_depth=11, min_samples_split=27, criterion='entropy')\n",
        "clf.fit(X_train, y_train)\n",
        "\n",
        "y_pred = clf.predict(X_test)\n",
        "\n",
        "accuracy = accuracy_score(y_test, y_pred)\n",
        "print(f\"Accuracy: {accuracy:.2f}\")\n",
        "\n",
        "classification_rep = classification_report(y_test, y_pred)\n",
        "print(\"Classification Report:\")\n",
        "print(classification_rep)\n"
      ],
      "metadata": {
        "colab": {
          "base_uri": "https://localhost:8080/"
        },
        "id": "PQ4ZcjrUCC9R",
        "outputId": "ddc1836a-3135-40a1-a871-2a107ce5aee7"
      },
      "execution_count": 5,
      "outputs": [
        {
          "output_type": "stream",
          "name": "stdout",
          "text": [
            "Accuracy: 0.92\n",
            "Classification Report:\n",
            "                precision    recall  f1-score   support\n",
            "\n",
            "     High Risk       0.81      0.88      0.84      1553\n",
            "      Low Risk       0.97      1.00      0.99      1629\n",
            " Moderate Risk       0.90      0.89      0.89      1660\n",
            "Very High Risk       0.99      0.90      0.94      1658\n",
            "\n",
            "      accuracy                           0.92      6500\n",
            "     macro avg       0.92      0.92      0.92      6500\n",
            "  weighted avg       0.92      0.92      0.92      6500\n",
            "\n"
          ]
        }
      ]
    },
    {
      "cell_type": "code",
      "source": [
        "from sklearn.metrics import accuracy_score, classification_report\n",
        "y_true = list(y_test)\n",
        "# Calculate overall accuracy\n",
        "overall_accuracy = accuracy_score(y_true, y_pred)\n",
        "print(f\"Overall Accuracy: {overall_accuracy:.2f}\")\n",
        "\n",
        "# Calculate accuracy for each class\n",
        "unique_classes = set(y_true)  # Assuming y_true contains all unique class labels\n",
        "class_accuracies = {}\n",
        "\n",
        "for class_label in unique_classes:\n",
        "    class_indices = [i for i, label in enumerate(y_true) if label == class_label]\n",
        "    class_true = [y_true[i] for i in class_indices]\n",
        "    class_pred = [y_pred[i] for i in class_indices]\n",
        "    class_accuracy = accuracy_score(class_true, class_pred)\n",
        "    class_accuracies[class_label] = class_accuracy\n",
        "\n",
        "# Print class-wise accuracies\n",
        "print(\"Class-wise Accuracies:\")\n",
        "for class_label, class_accuracy in class_accuracies.items():\n",
        "    print(f\"Class {class_label}: {class_accuracy:.2f}\")\n"
      ],
      "metadata": {
        "colab": {
          "base_uri": "https://localhost:8080/"
        },
        "id": "sON0r2wcJu0g",
        "outputId": "9815d785-b4cc-42fe-8277-8fa78cc466ae"
      },
      "execution_count": null,
      "outputs": [
        {
          "output_type": "stream",
          "name": "stdout",
          "text": [
            "Overall Accuracy: 0.92\n",
            "Class-wise Accuracies:\n",
            "Class Low Risk: 1.00\n",
            "Class Very High Risk: 0.90\n",
            "Class High Risk: 0.88\n",
            "Class Moderate Risk: 0.89\n"
          ]
        }
      ]
    },
    {
      "cell_type": "markdown",
      "source": [
        "## Confusion Matrix"
      ],
      "metadata": {
        "id": "UIrAGAb9ja9K"
      }
    },
    {
      "cell_type": "code",
      "source": [
        "import seaborn as sns\n",
        "from sklearn.metrics import confusion_matrix\n",
        "\n",
        "conf_matrix = confusion_matrix(y_test, y_pred)\n",
        "\n",
        "\n",
        "# Create a heatmap\n",
        "plt.figure(figsize=(8, 6))\n",
        "sns.set(font_scale=1.2)  # Adjust the font size if needed\n",
        "sns.heatmap(conf_matrix, annot=True, fmt='d', cmap='Blues', xticklabels=['High', 'Low', 'Moderate', 'Very High'], yticklabels=['High', 'Low', 'Moderate', 'Very High'])\n",
        "\n",
        "# Add labels and title\n",
        "plt.xlabel('Predicted Labels')\n",
        "plt.ylabel('True Labels')\n",
        "plt.title('Confusion Matrix Heatmap')\n",
        "\n",
        "plt.show()\n"
      ],
      "metadata": {
        "colab": {
          "base_uri": "https://localhost:8080/",
          "height": 578
        },
        "id": "bQ0ptQEHFe25",
        "outputId": "ef6f6c11-0f10-4d40-a284-b7cb8d14a5e1"
      },
      "execution_count": null,
      "outputs": [
        {
          "output_type": "display_data",
          "data": {
            "text/plain": [
              "<Figure size 800x600 with 2 Axes>"
            ],
            "image/png": "[encoded data removed]"
          },
          "metadata": {}
        }
      ]
    },
    {
      "cell_type": "code",
      "source": [
        "# Find the indices of misclassified samples\n",
        "misclassified_indices = np.where(y_true != y_pred)[0]\n",
        "\n",
        "\n",
        "# Optionally, you can print or visualize the misclassified data\n",
        "chigh = 0\n",
        "vhr = 0\n",
        "cvhigh = 0\n",
        "hr = 0\n",
        "cmod = 0\n",
        "clow = 0\n",
        "for i in range(len(X_test)):\n",
        "    if y_true[i] != y_pred[i]:\n",
        "      if y_true[i]=='Very High Risk':\n",
        "        print(X_test.iloc[i])\n",
        "        print()\n",
        "\n",
        "\n",
        "\n",
        "\n"
      ],
      "metadata": {
        "id": "1zBTPnpmixUQ"
      },
      "execution_count": null,
      "outputs": []
    },
    {
      "cell_type": "markdown",
      "source": [
        "## Observation\n",
        "\n",
        "\n",
        "---\n",
        "\n",
        "\n",
        "\n",
        "### y_true = 'Moderate' and y_pred = \"Low'\n",
        "* Teenagers with no medical conditions\n",
        "\n",
        "### y_true = 'Moderate' and y_pred = 'High'\n",
        "* 55+ with no medical conditions\n",
        "\n",
        "### y_true = 'High' and y_pred = 'Moderate'\n",
        "* 5 and below no medical conditions\n",
        "* 19-35 pregnant women with no medical conditions\n",
        "\n",
        "### y_true = 'High' and y_pred = 'Very High'\n",
        "* 18 & below with Renal Disease\n",
        "* 35+ pregnant women\n",
        "* 35+ with Diabetes\n",
        "* 74+ with Diabetes\n",
        "\n",
        "### y_true = 'Very High' and y_pred = 'High'\n",
        "* 73 & below with CVD\n",
        "* 35+ pregnant women with no medical conditions\n",
        "* 19-35 year old pregnant women with CVD\n",
        "* 5 and below who are currently sick\n",
        "* 13-18 with CVD"
      ],
      "metadata": {
        "id": "v7mD1toe1wAj"
      }
    },
    {
      "cell_type": "markdown",
      "source": [
        "## Tree Structure"
      ],
      "metadata": {
        "id": "Mp2AlxS3jSSI"
      }
    },
    {
      "cell_type": "code",
      "source": [
        "from sklearn.tree import export_text\n",
        "\n",
        "tree_rules = export_text(clf, feature_names=X.columns.tolist())\n",
        "print(\"Decision Tree Rules:\")\n",
        "print(tree_rules)\n"
      ],
      "metadata": {
        "colab": {
          "base_uri": "https://localhost:8080/"
        },
        "id": "7Qx8MOVBDgsC",
        "outputId": "71ee8bd2-b58c-4afa-f928-2b227a7ae9eb"
      },
      "execution_count": null,
      "outputs": [
        {
          "output_type": "stream",
          "name": "stdout",
          "text": [
            "Decision Tree Rules:\n",
            "|--- Age <= 35.50\n",
            "|   |--- Age <= 5.50\n",
            "|   |   |--- Renal Disease <= 0.50\n",
            "|   |   |   |--- Minor Pathology <= 0.50\n",
            "|   |   |   |   |--- Age <= 0.50\n",
            "|   |   |   |   |   |--- Gender <= 0.50\n",
            "|   |   |   |   |   |   |--- Cardiovascular Disease <= 0.50\n",
            "|   |   |   |   |   |   |   |--- Unnamed: 0 <= 943.00\n",
            "|   |   |   |   |   |   |   |   |--- class: Moderate Risk\n",
            "|   |   |   |   |   |   |   |--- Unnamed: 0 >  943.00\n",
            "|   |   |   |   |   |   |   |   |--- Unnamed: 0 <= 32105.50\n",
            "|   |   |   |   |   |   |   |   |   |--- Unnamed: 0 <= 32007.00\n",
            "|   |   |   |   |   |   |   |   |   |   |--- Unnamed: 0 <= 31716.50\n",
            "|   |   |   |   |   |   |   |   |   |   |   |--- class: Moderate Risk\n",
            "|   |   |   |   |   |   |   |   |   |   |--- Unnamed: 0 >  31716.50\n",
            "|   |   |   |   |   |   |   |   |   |   |   |--- class: Moderate Risk\n",
            "|   |   |   |   |   |   |   |   |   |--- Unnamed: 0 >  32007.00\n",
            "|   |   |   |   |   |   |   |   |   |   |--- class: High Risk\n",
            "|   |   |   |   |   |   |   |   |--- Unnamed: 0 >  32105.50\n",
            "|   |   |   |   |   |   |   |   |   |--- class: Moderate Risk\n",
            "|   |   |   |   |   |   |--- Cardiovascular Disease >  0.50\n",
            "|   |   |   |   |   |   |   |--- class: High Risk\n",
            "|   |   |   |   |   |--- Gender >  0.50\n",
            "|   |   |   |   |   |   |--- Diabetes <= 0.50\n",
            "|   |   |   |   |   |   |   |--- class: High Risk\n",
            "|   |   |   |   |   |   |--- Diabetes >  0.50\n",
            "|   |   |   |   |   |   |   |--- class: Very High Risk\n",
            "|   |   |   |   |--- Age >  0.50\n",
            "|   |   |   |   |   |--- Diabetes <= 0.50\n",
            "|   |   |   |   |   |   |--- Cardiovascular Disease <= 0.50\n",
            "|   |   |   |   |   |   |   |--- Unnamed: 0 <= 31829.00\n",
            "|   |   |   |   |   |   |   |   |--- Unnamed: 0 <= 5743.00\n",
            "|   |   |   |   |   |   |   |   |   |--- Unnamed: 0 <= 210.50\n",
            "|   |   |   |   |   |   |   |   |   |   |--- class: Moderate Risk\n",
            "|   |   |   |   |   |   |   |   |   |--- Unnamed: 0 >  210.50\n",
            "|   |   |   |   |   |   |   |   |   |   |--- Unnamed: 0 <= 321.00\n",
            "|   |   |   |   |   |   |   |   |   |   |   |--- class: High Risk\n",
            "|   |   |   |   |   |   |   |   |   |   |--- Unnamed: 0 >  321.00\n",
            "|   |   |   |   |   |   |   |   |   |   |   |--- class: Moderate Risk\n",
            "|   |   |   |   |   |   |   |   |--- Unnamed: 0 >  5743.00\n",
            "|   |   |   |   |   |   |   |   |   |--- Unnamed: 0 <= 23915.50\n",
            "|   |   |   |   |   |   |   |   |   |   |--- Unnamed: 0 <= 22093.00\n",
            "|   |   |   |   |   |   |   |   |   |   |   |--- class: Moderate Risk\n",
            "|   |   |   |   |   |   |   |   |   |   |--- Unnamed: 0 >  22093.00\n",
            "|   |   |   |   |   |   |   |   |   |   |   |--- class: Moderate Risk\n",
            "|   |   |   |   |   |   |   |   |   |--- Unnamed: 0 >  23915.50\n",
            "|   |   |   |   |   |   |   |   |   |   |--- Unnamed: 0 <= 29851.50\n",
            "|   |   |   |   |   |   |   |   |   |   |   |--- class: Moderate Risk\n",
            "|   |   |   |   |   |   |   |   |   |   |--- Unnamed: 0 >  29851.50\n",
            "|   |   |   |   |   |   |   |   |   |   |   |--- class: Moderate Risk\n",
            "|   |   |   |   |   |   |   |--- Unnamed: 0 >  31829.00\n",
            "|   |   |   |   |   |   |   |   |--- Unnamed: 0 <= 31937.00\n",
            "|   |   |   |   |   |   |   |   |   |--- class: High Risk\n",
            "|   |   |   |   |   |   |   |   |--- Unnamed: 0 >  31937.00\n",
            "|   |   |   |   |   |   |   |   |   |--- Unnamed: 0 <= 32435.00\n",
            "|   |   |   |   |   |   |   |   |   |   |--- Unnamed: 0 <= 32329.00\n",
            "|   |   |   |   |   |   |   |   |   |   |   |--- class: Moderate Risk\n",
            "|   |   |   |   |   |   |   |   |   |   |--- Unnamed: 0 >  32329.00\n",
            "|   |   |   |   |   |   |   |   |   |   |   |--- class: High Risk\n",
            "|   |   |   |   |   |   |   |   |   |--- Unnamed: 0 >  32435.00\n",
            "|   |   |   |   |   |   |   |   |   |   |--- class: Moderate Risk\n",
            "|   |   |   |   |   |   |--- Cardiovascular Disease >  0.50\n",
            "|   |   |   |   |   |   |   |--- class: High Risk\n",
            "|   |   |   |   |   |--- Diabetes >  0.50\n",
            "|   |   |   |   |   |   |--- class: Very High Risk\n",
            "|   |   |   |--- Minor Pathology >  0.50\n",
            "|   |   |   |   |--- Age <= 4.50\n",
            "|   |   |   |   |   |--- Unnamed: 0 <= 31302.00\n",
            "|   |   |   |   |   |   |--- Unnamed: 0 <= 29365.00\n",
            "|   |   |   |   |   |   |   |--- Unnamed: 0 <= 1958.50\n",
            "|   |   |   |   |   |   |   |   |--- class: Very High Risk\n",
            "|   |   |   |   |   |   |   |--- Unnamed: 0 >  1958.50\n",
            "|   |   |   |   |   |   |   |   |--- Unnamed: 0 <= 28417.50\n",
            "|   |   |   |   |   |   |   |   |   |--- Unnamed: 0 <= 22256.00\n",
            "|   |   |   |   |   |   |   |   |   |   |--- Unnamed: 0 <= 19166.00\n",
            "|   |   |   |   |   |   |   |   |   |   |   |--- class: High Risk\n",
            "|   |   |   |   |   |   |   |   |   |   |--- Unnamed: 0 >  19166.00\n",
            "|   |   |   |   |   |   |   |   |   |   |   |--- class: Very High Risk\n",
            "|   |   |   |   |   |   |   |   |   |--- Unnamed: 0 >  22256.00\n",
            "|   |   |   |   |   |   |   |   |   |   |--- class: High Risk\n",
            "|   |   |   |   |   |   |   |   |--- Unnamed: 0 >  28417.50\n",
            "|   |   |   |   |   |   |   |   |   |--- class: Very High Risk\n",
            "|   |   |   |   |   |   |--- Unnamed: 0 >  29365.00\n",
            "|   |   |   |   |   |   |   |--- class: High Risk\n",
            "|   |   |   |   |   |--- Unnamed: 0 >  31302.00\n",
            "|   |   |   |   |   |   |--- class: Very High Risk\n",
            "|   |   |   |   |--- Age >  4.50\n",
            "|   |   |   |   |   |--- class: High Risk\n",
            "|   |   |--- Renal Disease >  0.50\n",
            "|   |   |   |--- class: Very High Risk\n",
            "|   |--- Age >  5.50\n",
            "|   |   |--- Renal Disease <= 0.50\n",
            "|   |   |   |--- Pregnant <= 0.50\n",
            "|   |   |   |   |--- Cardiovascular Disease <= 0.50\n",
            "|   |   |   |   |   |--- Diabetes <= 0.50\n",
            "|   |   |   |   |   |   |--- Minor Pathology <= 0.50\n",
            "|   |   |   |   |   |   |   |--- Age <= 19.50\n",
            "|   |   |   |   |   |   |   |   |--- Age <= 13.50\n",
            "|   |   |   |   |   |   |   |   |   |--- Psychiatric Disorder <= 0.50\n",
            "|   |   |   |   |   |   |   |   |   |   |--- class: Low Risk\n",
            "|   |   |   |   |   |   |   |   |   |--- Psychiatric Disorder >  0.50\n",
            "|   |   |   |   |   |   |   |   |   |   |--- class: Moderate Risk\n",
            "|   |   |   |   |   |   |   |   |--- Age >  13.50\n",
            "|   |   |   |   |   |   |   |   |   |--- Psychiatric Disorder <= 0.50\n",
            "|   |   |   |   |   |   |   |   |   |   |--- Age <= 18.50\n",
            "|   |   |   |   |   |   |   |   |   |   |   |--- class: Low Risk\n",
            "|   |   |   |   |   |   |   |   |   |   |--- Age >  18.50\n",
            "|   |   |   |   |   |   |   |   |   |   |   |--- class: Low Risk\n",
            "|   |   |   |   |   |   |   |   |   |--- Psychiatric Disorder >  0.50\n",
            "|   |   |   |   |   |   |   |   |   |   |--- class: Moderate Risk\n",
            "|   |   |   |   |   |   |   |--- Age >  19.50\n",
            "|   |   |   |   |   |   |   |   |--- class: Low Risk\n",
            "|   |   |   |   |   |   |--- Minor Pathology >  0.50\n",
            "|   |   |   |   |   |   |   |--- Age <= 19.50\n",
            "|   |   |   |   |   |   |   |   |--- Age <= 13.50\n",
            "|   |   |   |   |   |   |   |   |   |--- class: Moderate Risk\n",
            "|   |   |   |   |   |   |   |   |--- Age >  13.50\n",
            "|   |   |   |   |   |   |   |   |   |--- Unnamed: 0 <= 5024.50\n",
            "|   |   |   |   |   |   |   |   |   |   |--- class: Moderate Risk\n",
            "|   |   |   |   |   |   |   |   |   |--- Unnamed: 0 >  5024.50\n",
            "|   |   |   |   |   |   |   |   |   |   |--- class: High Risk\n",
            "|   |   |   |   |   |   |   |--- Age >  19.50\n",
            "|   |   |   |   |   |   |   |   |--- class: Moderate Risk\n",
            "|   |   |   |   |   |--- Diabetes >  0.50\n",
            "|   |   |   |   |   |   |--- Age <= 19.50\n",
            "|   |   |   |   |   |   |   |--- Minor Pathology <= 0.50\n",
            "|   |   |   |   |   |   |   |   |--- class: High Risk\n",
            "|   |   |   |   |   |   |   |--- Minor Pathology >  0.50\n",
            "|   |   |   |   |   |   |   |   |--- class: Very High Risk\n",
            "|   |   |   |   |   |   |--- Age >  19.50\n",
            "|   |   |   |   |   |   |   |--- class: Moderate Risk\n",
            "|   |   |   |   |--- Cardiovascular Disease >  0.50\n",
            "|   |   |   |   |   |--- Diabetes <= 0.50\n",
            "|   |   |   |   |   |   |--- Minor Pathology <= 0.50\n",
            "|   |   |   |   |   |   |   |--- Age <= 18.50\n",
            "|   |   |   |   |   |   |   |   |--- Age <= 13.50\n",
            "|   |   |   |   |   |   |   |   |   |--- class: Moderate Risk\n",
            "|   |   |   |   |   |   |   |   |--- Age >  13.50\n",
            "|   |   |   |   |   |   |   |   |   |--- class: Moderate Risk\n",
            "|   |   |   |   |   |   |   |--- Age >  18.50\n",
            "|   |   |   |   |   |   |   |   |--- Age <= 21.50\n",
            "|   |   |   |   |   |   |   |   |   |--- Unnamed: 0 <= 19663.00\n",
            "|   |   |   |   |   |   |   |   |   |   |--- class: Moderate Risk\n",
            "|   |   |   |   |   |   |   |   |   |--- Unnamed: 0 >  19663.00\n",
            "|   |   |   |   |   |   |   |   |   |   |--- class: Moderate Risk\n",
            "|   |   |   |   |   |   |   |   |--- Age >  21.50\n",
            "|   |   |   |   |   |   |   |   |   |--- class: Moderate Risk\n",
            "|   |   |   |   |   |   |--- Minor Pathology >  0.50\n",
            "|   |   |   |   |   |   |   |--- class: High Risk\n",
            "|   |   |   |   |   |--- Diabetes >  0.50\n",
            "|   |   |   |   |   |   |--- class: High Risk\n",
            "|   |   |   |--- Pregnant >  0.50\n",
            "|   |   |   |   |--- Age <= 19.50\n",
            "|   |   |   |   |   |--- Minor Pathology <= 0.50\n",
            "|   |   |   |   |   |   |--- Unnamed: 0 <= 30637.50\n",
            "|   |   |   |   |   |   |   |--- class: High Risk\n",
            "|   |   |   |   |   |   |--- Unnamed: 0 >  30637.50\n",
            "|   |   |   |   |   |   |   |--- class: High Risk\n",
            "|   |   |   |   |   |--- Minor Pathology >  0.50\n",
            "|   |   |   |   |   |   |--- class: Very High Risk\n",
            "|   |   |   |   |--- Age >  19.50\n",
            "|   |   |   |   |   |--- Diabetes <= 0.50\n",
            "|   |   |   |   |   |   |--- Cardiovascular Disease <= 0.50\n",
            "|   |   |   |   |   |   |   |--- Minor Pathology <= 0.50\n",
            "|   |   |   |   |   |   |   |   |--- Unnamed: 0 <= 4426.50\n",
            "|   |   |   |   |   |   |   |   |   |--- Unnamed: 0 <= 4148.00\n",
            "|   |   |   |   |   |   |   |   |   |   |--- Age <= 20.50\n",
            "|   |   |   |   |   |   |   |   |   |   |   |--- class: Moderate Risk\n",
            "|   |   |   |   |   |   |   |   |   |   |--- Age >  20.50\n",
            "|   |   |   |   |   |   |   |   |   |   |   |--- class: High Risk\n",
            "|   |   |   |   |   |   |   |   |   |--- Unnamed: 0 >  4148.00\n",
            "|   |   |   |   |   |   |   |   |   |   |--- class: High Risk\n",
            "|   |   |   |   |   |   |   |   |--- Unnamed: 0 >  4426.50\n",
            "|   |   |   |   |   |   |   |   |   |--- Unnamed: 0 <= 5101.50\n",
            "|   |   |   |   |   |   |   |   |   |   |--- class: Moderate Risk\n",
            "|   |   |   |   |   |   |   |   |   |--- Unnamed: 0 >  5101.50\n",
            "|   |   |   |   |   |   |   |   |   |   |--- Psychiatric Disorder <= 0.50\n",
            "|   |   |   |   |   |   |   |   |   |   |   |--- class: Moderate Risk\n",
            "|   |   |   |   |   |   |   |   |   |   |--- Psychiatric Disorder >  0.50\n",
            "|   |   |   |   |   |   |   |   |   |   |   |--- class: High Risk\n",
            "|   |   |   |   |   |   |   |--- Minor Pathology >  0.50\n",
            "|   |   |   |   |   |   |   |   |--- class: High Risk\n",
            "|   |   |   |   |   |   |--- Cardiovascular Disease >  0.50\n",
            "|   |   |   |   |   |   |   |--- class: High Risk\n",
            "|   |   |   |   |   |--- Diabetes >  0.50\n",
            "|   |   |   |   |   |   |--- class: Very High Risk\n",
            "|   |   |--- Renal Disease >  0.50\n",
            "|   |   |   |--- Diabetes <= 0.50\n",
            "|   |   |   |   |--- Pregnant <= 0.50\n",
            "|   |   |   |   |   |--- Age <= 19.50\n",
            "|   |   |   |   |   |   |--- Age <= 13.50\n",
            "|   |   |   |   |   |   |   |--- Unnamed: 0 <= 18277.50\n",
            "|   |   |   |   |   |   |   |   |--- Unnamed: 0 <= 18141.00\n",
            "|   |   |   |   |   |   |   |   |   |--- Unnamed: 0 <= 4030.00\n",
            "|   |   |   |   |   |   |   |   |   |   |--- class: High Risk\n",
            "|   |   |   |   |   |   |   |   |   |--- Unnamed: 0 >  4030.00\n",
            "|   |   |   |   |   |   |   |   |   |   |--- Age <= 7.50\n",
            "|   |   |   |   |   |   |   |   |   |   |   |--- class: High Risk\n",
            "|   |   |   |   |   |   |   |   |   |   |--- Age >  7.50\n",
            "|   |   |   |   |   |   |   |   |   |   |   |--- class: Very High Risk\n",
            "|   |   |   |   |   |   |   |   |--- Unnamed: 0 >  18141.00\n",
            "|   |   |   |   |   |   |   |   |   |--- class: Very High Risk\n",
            "|   |   |   |   |   |   |   |--- Unnamed: 0 >  18277.50\n",
            "|   |   |   |   |   |   |   |   |--- Age <= 9.50\n",
            "|   |   |   |   |   |   |   |   |   |--- class: High Risk\n",
            "|   |   |   |   |   |   |   |   |--- Age >  9.50\n",
            "|   |   |   |   |   |   |   |   |   |--- class: High Risk\n",
            "|   |   |   |   |   |   |--- Age >  13.50\n",
            "|   |   |   |   |   |   |   |--- Unnamed: 0 <= 4827.00\n",
            "|   |   |   |   |   |   |   |   |--- class: High Risk\n",
            "|   |   |   |   |   |   |   |--- Unnamed: 0 >  4827.00\n",
            "|   |   |   |   |   |   |   |   |--- Unnamed: 0 <= 31399.50\n",
            "|   |   |   |   |   |   |   |   |   |--- Unnamed: 0 <= 29096.00\n",
            "|   |   |   |   |   |   |   |   |   |   |--- Unnamed: 0 <= 28802.00\n",
            "|   |   |   |   |   |   |   |   |   |   |   |--- class: Very High Risk\n",
            "|   |   |   |   |   |   |   |   |   |   |--- Unnamed: 0 >  28802.00\n",
            "|   |   |   |   |   |   |   |   |   |   |   |--- class: High Risk\n",
            "|   |   |   |   |   |   |   |   |   |--- Unnamed: 0 >  29096.00\n",
            "|   |   |   |   |   |   |   |   |   |   |--- class: Very High Risk\n",
            "|   |   |   |   |   |   |   |   |--- Unnamed: 0 >  31399.50\n",
            "|   |   |   |   |   |   |   |   |   |--- class: High Risk\n",
            "|   |   |   |   |   |--- Age >  19.50\n",
            "|   |   |   |   |   |   |--- Cardiovascular Disease <= 0.50\n",
            "|   |   |   |   |   |   |   |--- Minor Pathology <= 0.50\n",
            "|   |   |   |   |   |   |   |   |--- class: High Risk\n",
            "|   |   |   |   |   |   |   |--- Minor Pathology >  0.50\n",
            "|   |   |   |   |   |   |   |   |--- class: Very High Risk\n",
            "|   |   |   |   |   |   |--- Cardiovascular Disease >  0.50\n",
            "|   |   |   |   |   |   |   |--- class: Very High Risk\n",
            "|   |   |   |   |--- Pregnant >  0.50\n",
            "|   |   |   |   |   |--- class: Very High Risk\n",
            "|   |   |   |--- Diabetes >  0.50\n",
            "|   |   |   |   |--- class: Very High Risk\n",
            "|--- Age >  35.50\n",
            "|   |--- Cardiovascular Disease <= 0.50\n",
            "|   |   |--- Renal Disease <= 0.50\n",
            "|   |   |   |--- Age <= 75.50\n",
            "|   |   |   |   |--- Pregnant <= 0.50\n",
            "|   |   |   |   |   |--- Age <= 55.50\n",
            "|   |   |   |   |   |   |--- Minor Pathology <= 0.50\n",
            "|   |   |   |   |   |   |   |--- Diabetes <= 0.50\n",
            "|   |   |   |   |   |   |   |   |--- Psychiatric Disorder <= 0.50\n",
            "|   |   |   |   |   |   |   |   |   |--- class: Moderate Risk\n",
            "|   |   |   |   |   |   |   |   |--- Psychiatric Disorder >  0.50\n",
            "|   |   |   |   |   |   |   |   |   |--- Gender <= 0.50\n",
            "|   |   |   |   |   |   |   |   |   |   |--- class: Moderate Risk\n",
            "|   |   |   |   |   |   |   |   |   |--- Gender >  0.50\n",
            "|   |   |   |   |   |   |   |   |   |   |--- class: Moderate Risk\n",
            "|   |   |   |   |   |   |   |--- Diabetes >  0.50\n",
            "|   |   |   |   |   |   |   |   |--- Gender <= 0.50\n",
            "|   |   |   |   |   |   |   |   |   |--- class: High Risk\n",
            "|   |   |   |   |   |   |   |   |--- Gender >  0.50\n",
            "|   |   |   |   |   |   |   |   |   |--- Age <= 46.50\n",
            "|   |   |   |   |   |   |   |   |   |   |--- class: Very High Risk\n",
            "|   |   |   |   |   |   |   |   |   |--- Age >  46.50\n",
            "|   |   |   |   |   |   |   |   |   |   |--- class: High Risk\n",
            "|   |   |   |   |   |   |--- Minor Pathology >  0.50\n",
            "|   |   |   |   |   |   |   |--- class: High Risk\n",
            "|   |   |   |   |   |--- Age >  55.50\n",
            "|   |   |   |   |   |   |--- Gender <= 0.50\n",
            "|   |   |   |   |   |   |   |--- Diabetes <= 0.50\n",
            "|   |   |   |   |   |   |   |   |--- Minor Pathology <= 0.50\n",
            "|   |   |   |   |   |   |   |   |   |--- Unnamed: 0 <= 31552.00\n",
            "|   |   |   |   |   |   |   |   |   |   |--- Psychiatric Disorder <= 0.50\n",
            "|   |   |   |   |   |   |   |   |   |   |   |--- class: High Risk\n",
            "|   |   |   |   |   |   |   |   |   |   |--- Psychiatric Disorder >  0.50\n",
            "|   |   |   |   |   |   |   |   |   |   |   |--- class: High Risk\n",
            "|   |   |   |   |   |   |   |   |   |--- Unnamed: 0 >  31552.00\n",
            "|   |   |   |   |   |   |   |   |   |   |--- class: High Risk\n",
            "|   |   |   |   |   |   |   |   |--- Minor Pathology >  0.50\n",
            "|   |   |   |   |   |   |   |   |   |--- class: Very High Risk\n",
            "|   |   |   |   |   |   |   |--- Diabetes >  0.50\n",
            "|   |   |   |   |   |   |   |   |--- class: Very High Risk\n",
            "|   |   |   |   |   |   |--- Gender >  0.50\n",
            "|   |   |   |   |   |   |   |--- Diabetes <= 0.50\n",
            "|   |   |   |   |   |   |   |   |--- Minor Pathology <= 0.50\n",
            "|   |   |   |   |   |   |   |   |   |--- class: Moderate Risk\n",
            "|   |   |   |   |   |   |   |   |--- Minor Pathology >  0.50\n",
            "|   |   |   |   |   |   |   |   |   |--- class: High Risk\n",
            "|   |   |   |   |   |   |   |--- Diabetes >  0.50\n",
            "|   |   |   |   |   |   |   |   |--- class: High Risk\n",
            "|   |   |   |   |--- Pregnant >  0.50\n",
            "|   |   |   |   |   |--- Unnamed: 0 <= 31390.50\n",
            "|   |   |   |   |   |   |--- Age <= 47.50\n",
            "|   |   |   |   |   |   |   |--- Minor Pathology <= 0.50\n",
            "|   |   |   |   |   |   |   |   |--- Diabetes <= 0.50\n",
            "|   |   |   |   |   |   |   |   |   |--- Unnamed: 0 <= 17465.50\n",
            "|   |   |   |   |   |   |   |   |   |   |--- Unnamed: 0 <= 16049.00\n",
            "|   |   |   |   |   |   |   |   |   |   |   |--- class: High Risk\n",
            "|   |   |   |   |   |   |   |   |   |   |--- Unnamed: 0 >  16049.00\n",
            "|   |   |   |   |   |   |   |   |   |   |   |--- class: High Risk\n",
            "|   |   |   |   |   |   |   |   |   |--- Unnamed: 0 >  17465.50\n",
            "|   |   |   |   |   |   |   |   |   |   |--- Unnamed: 0 <= 18591.00\n",
            "|   |   |   |   |   |   |   |   |   |   |   |--- class: Very High Risk\n",
            "|   |   |   |   |   |   |   |   |   |   |--- Unnamed: 0 >  18591.00\n",
            "|   |   |   |   |   |   |   |   |   |   |   |--- class: High Risk\n",
            "|   |   |   |   |   |   |   |   |--- Diabetes >  0.50\n",
            "|   |   |   |   |   |   |   |   |   |--- class: Very High Risk\n",
            "|   |   |   |   |   |   |   |--- Minor Pathology >  0.50\n",
            "|   |   |   |   |   |   |   |   |--- class: Very High Risk\n",
            "|   |   |   |   |   |   |--- Age >  47.50\n",
            "|   |   |   |   |   |   |   |--- class: Very High Risk\n",
            "|   |   |   |   |   |--- Unnamed: 0 >  31390.50\n",
            "|   |   |   |   |   |   |--- class: Very High Risk\n",
            "|   |   |   |--- Age >  75.50\n",
            "|   |   |   |   |--- class: Very High Risk\n",
            "|   |   |--- Renal Disease >  0.50\n",
            "|   |   |   |--- class: Very High Risk\n",
            "|   |--- Cardiovascular Disease >  0.50\n",
            "|   |   |--- Renal Disease <= 0.50\n",
            "|   |   |   |--- Age <= 75.50\n",
            "|   |   |   |   |--- Diabetes <= 0.50\n",
            "|   |   |   |   |   |--- Gender <= 0.50\n",
            "|   |   |   |   |   |   |--- Age <= 55.50\n",
            "|   |   |   |   |   |   |   |--- Pregnant <= 0.50\n",
            "|   |   |   |   |   |   |   |   |--- Minor Pathology <= 0.50\n",
            "|   |   |   |   |   |   |   |   |   |--- class: High Risk\n",
            "|   |   |   |   |   |   |   |   |--- Minor Pathology >  0.50\n",
            "|   |   |   |   |   |   |   |   |   |--- class: Very High Risk\n",
            "|   |   |   |   |   |   |   |--- Pregnant >  0.50\n",
            "|   |   |   |   |   |   |   |   |--- class: Very High Risk\n",
            "|   |   |   |   |   |   |--- Age >  55.50\n",
            "|   |   |   |   |   |   |   |--- Minor Pathology <= 0.50\n",
            "|   |   |   |   |   |   |   |   |--- Psychiatric Disorder <= 0.50\n",
            "|   |   |   |   |   |   |   |   |   |--- Age <= 73.50\n",
            "|   |   |   |   |   |   |   |   |   |   |--- Unnamed: 0 <= 227.50\n",
            "|   |   |   |   |   |   |   |   |   |   |   |--- class: High Risk\n",
            "|   |   |   |   |   |   |   |   |   |   |--- Unnamed: 0 >  227.50\n",
            "|   |   |   |   |   |   |   |   |   |   |   |--- class: High Risk\n",
            "|   |   |   |   |   |   |   |   |   |--- Age >  73.50\n",
            "|   |   |   |   |   |   |   |   |   |   |--- Unnamed: 0 <= 31113.00\n",
            "|   |   |   |   |   |   |   |   |   |   |   |--- class: High Risk\n",
            "|   |   |   |   |   |   |   |   |   |   |--- Unnamed: 0 >  31113.00\n",
            "|   |   |   |   |   |   |   |   |   |   |   |--- class: Very High Risk\n",
            "|   |   |   |   |   |   |   |   |--- Psychiatric Disorder >  0.50\n",
            "|   |   |   |   |   |   |   |   |   |--- class: Very High Risk\n",
            "|   |   |   |   |   |   |   |--- Minor Pathology >  0.50\n",
            "|   |   |   |   |   |   |   |   |--- class: Very High Risk\n",
            "|   |   |   |   |   |--- Gender >  0.50\n",
            "|   |   |   |   |   |   |--- Minor Pathology <= 0.50\n",
            "|   |   |   |   |   |   |   |--- Psychiatric Disorder <= 0.50\n",
            "|   |   |   |   |   |   |   |   |--- class: High Risk\n",
            "|   |   |   |   |   |   |   |--- Psychiatric Disorder >  0.50\n",
            "|   |   |   |   |   |   |   |   |--- Unnamed: 0 <= 17539.00\n",
            "|   |   |   |   |   |   |   |   |   |--- class: High Risk\n",
            "|   |   |   |   |   |   |   |   |--- Unnamed: 0 >  17539.00\n",
            "|   |   |   |   |   |   |   |   |   |--- class: High Risk\n",
            "|   |   |   |   |   |   |--- Minor Pathology >  0.50\n",
            "|   |   |   |   |   |   |   |--- class: Very High Risk\n",
            "|   |   |   |   |--- Diabetes >  0.50\n",
            "|   |   |   |   |   |--- class: Very High Risk\n",
            "|   |   |   |--- Age >  75.50\n",
            "|   |   |   |   |--- class: Very High Risk\n",
            "|   |   |--- Renal Disease >  0.50\n",
            "|   |   |   |--- class: Very High Risk\n",
            "\n"
          ]
        }
      ]
    },
    {
      "cell_type": "code",
      "source": [
        "from sklearn.tree import export_text\n",
        "from sklearn.tree import export_graphviz\n",
        "import graphviz\n",
        "\n",
        "# Export the tree to a DOT file\n",
        "dot_data = export_graphviz(clf, out_file=None, feature_names=X_train.columns.tolist(), filled=True, rounded=True)\n",
        "\n",
        "# Render the DOT file using Graphviz's interactive tool (requires Graphviz installed)\n",
        "graph = graphviz.Source(dot_data)\n",
        "graph.view()\n"
      ],
      "metadata": {
        "colab": {
          "base_uri": "https://localhost:8080/",
          "height": 35
        },
        "id": "HPCqiCisFHgm",
        "outputId": "027882aa-87ae-401d-dd9f-8079ba3d1ec9"
      },
      "execution_count": null,
      "outputs": [
        {
          "output_type": "execute_result",
          "data": {
            "text/plain": [
              "'Source.gv.pdf'"
            ],
            "application/vnd.google.colaboratory.intrinsic+json": {
              "type": "string"
            }
          },
          "metadata": {},
          "execution_count": 30
        }
      ]
    },
    {
      "cell_type": "markdown",
      "source": [
        "## Feature Importance"
      ],
      "metadata": {
        "id": "kdznDVO6jVVJ"
      }
    },
    {
      "cell_type": "code",
      "source": [
        "import matplotlib.pyplot as plt\n",
        "feature_names=X_train.columns.tolist()\n",
        "\n",
        "feature_importance = clf.feature_importances_\n",
        "plt.barh(range(len(feature_importance)), feature_importance, align='center')\n",
        "plt.yticks(range(len(feature_names)), feature_names)\n",
        "plt.xlabel('Feature Importance')\n",
        "plt.ylabel('Feature')\n",
        "plt.show()"
      ],
      "metadata": {
        "colab": {
          "base_uri": "https://localhost:8080/",
          "height": 449
        },
        "id": "1xRXIeB9gvU0",
        "outputId": "d662e876-4acc-4254-a990-ffbc0b8c7a12"
      },
      "execution_count": 6,
      "outputs": [
        {
          "output_type": "display_data",
          "data": {
            "text/plain": [
              "<Figure size 640x480 with 1 Axes>"
            ],
            "image/png": "[encoded data removed]"
          },
          "metadata": {}
        }
      ]
    },
    {
      "cell_type": "markdown",
      "source": [
        "# Save Model\n",
        "\n",
        "* For Deployment"
      ],
      "metadata": {
        "id": "qgHaO-VdzPSj"
      }
    },
    {
      "cell_type": "code",
      "source": [
        "!pip show scikit-learn"
      ],
      "metadata": {
        "colab": {
          "base_uri": "https://localhost:8080/"
        },
        "id": "KAXgUZsq0EGa",
        "outputId": "fbfc95c0-7737-49e4-cac9-86c8e2bba273"
      },
      "execution_count": null,
      "outputs": [
        {
          "output_type": "stream",
          "name": "stdout",
          "text": [
            "Name: scikit-learn\n",
            "Version: 1.3.1\n",
            "Summary: A set of python modules for machine learning and data mining\n",
            "Home-page: http://scikit-learn.org\n",
            "Author: \n",
            "Author-email: \n",
            "License: new BSD\n",
            "Location: /usr/local/lib/python3.10/dist-packages\n",
            "Requires: joblib, numpy, scipy, threadpoolctl\n",
            "Required-by: fastai, imbalanced-learn, librosa, mlxtend, qudida, sklearn-pandas, yellowbrick\n"
          ]
        }
      ]
    },
    {
      "cell_type": "code",
      "source": [
        "!pip install --upgrade scikit-learn"
      ],
      "metadata": {
        "colab": {
          "base_uri": "https://localhost:8080/",
          "height": 385
        },
        "id": "OnHLcztj2-vN",
        "outputId": "d87ad0b9-e43d-4076-fe5e-353c1bd533aa"
      },
      "execution_count": null,
      "outputs": [
        {
          "output_type": "stream",
          "name": "stdout",
          "text": [
            "Requirement already satisfied: scikit-learn in /usr/local/lib/python3.10/dist-packages (1.2.2)\n",
            "Collecting scikit-learn\n",
            "  Downloading scikit_learn-1.3.1-cp310-cp310-manylinux_2_17_x86_64.manylinux2014_x86_64.whl (10.8 MB)\n",
            "\u001b[2K     \u001b[90m━━━━━━━━━━━━━━━━━━━━━━━━━━━━━━━━━━━━━━━━\u001b[0m \u001b[32m10.8/10.8 MB\u001b[0m \u001b[31m34.0 MB/s\u001b[0m eta \u001b[36m0:00:00\u001b[0m\n",
            "\u001b[?25hRequirement already satisfied: numpy<2.0,>=1.17.3 in /usr/local/lib/python3.10/dist-packages (from scikit-learn) (1.23.5)\n",
            "Requirement already satisfied: scipy>=1.5.0 in /usr/local/lib/python3.10/dist-packages (from scikit-learn) (1.11.3)\n",
            "Requirement already satisfied: joblib>=1.1.1 in /usr/local/lib/python3.10/dist-packages (from scikit-learn) (1.3.2)\n",
            "Requirement already satisfied: threadpoolctl>=2.0.0 in /usr/local/lib/python3.10/dist-packages (from scikit-learn) (3.2.0)\n",
            "Installing collected packages: scikit-learn\n",
            "  Attempting uninstall: scikit-learn\n",
            "    Found existing installation: scikit-learn 1.2.2\n",
            "    Uninstalling scikit-learn-1.2.2:\n",
            "      Successfully uninstalled scikit-learn-1.2.2\n",
            "Successfully installed scikit-learn-1.3.1\n"
          ]
        },
        {
          "output_type": "display_data",
          "data": {
            "application/vnd.colab-display-data+json": {
              "pip_warning": {
                "packages": [
                  "sklearn"
                ]
              }
            }
          },
          "metadata": {}
        }
      ]
    },
    {
      "cell_type": "code",
      "source": [
        "!pip show scikit-learn"
      ],
      "metadata": {
        "colab": {
          "base_uri": "https://localhost:8080/"
        },
        "id": "VOglZiRc3EOS",
        "outputId": "75c315a0-6aca-45c0-f85d-06edbae5e87a"
      },
      "execution_count": null,
      "outputs": [
        {
          "output_type": "stream",
          "name": "stdout",
          "text": [
            "Name: scikit-learn\n",
            "Version: 1.3.1\n",
            "Summary: A set of python modules for machine learning and data mining\n",
            "Home-page: http://scikit-learn.org\n",
            "Author: \n",
            "Author-email: \n",
            "License: new BSD\n",
            "Location: /usr/local/lib/python3.10/dist-packages\n",
            "Requires: joblib, numpy, scipy, threadpoolctl\n",
            "Required-by: fastai, imbalanced-learn, librosa, mlxtend, qudida, sklearn-pandas, yellowbrick\n"
          ]
        }
      ]
    },
    {
      "cell_type": "code",
      "source": [
        "import joblib\n",
        "\n",
        "\n",
        "joblib.dump(clf, 'model.pkl')\n"
      ],
      "metadata": {
        "colab": {
          "base_uri": "https://localhost:8080/"
        },
        "id": "Ba-JhyI10hM3",
        "outputId": "0b67581f-91cc-419d-e3f9-fb660192988a"
      },
      "execution_count": null,
      "outputs": [
        {
          "output_type": "execute_result",
          "data": {
            "text/plain": [
              "['model.pkl']"
            ]
          },
          "metadata": {},
          "execution_count": 7
        }
      ]
    },
    {
      "cell_type": "code",
      "source": [
        "import joblib\n",
        "\n",
        "# Save the model to a file\n",
        "joblib.dump(clf, 'riskpredictor.joblib')"
      ],
      "metadata": {
        "colab": {
          "base_uri": "https://localhost:8080/"
        },
        "id": "KlrhvFldzOzO",
        "outputId": "ee3dca48-024f-42ab-de3a-b1a100262c49"
      },
      "execution_count": null,
      "outputs": [
        {
          "output_type": "execute_result",
          "data": {
            "text/plain": [
              "['riskpredictor.joblib']"
            ]
          },
          "metadata": {},
          "execution_count": 26
        }
      ]
    }
  ]
}