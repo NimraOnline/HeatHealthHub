{
  "nbformat": 4,
  "nbformat_minor": 0,
  "metadata": {
    "colab": {
      "provenance": []
    },
    "kernelspec": {
      "name": "python3",
      "display_name": "Python 3"
    },
    "language_info": {
      "name": "python"
    }
  },
  "cells": [
    {
      "cell_type": "markdown",
      "source": [
        "# Risk Model Matrix\n",
        "\n",
        "\n",
        "---\n",
        "\n",
        "\n",
        "### Data to use\n",
        "\n",
        "* API Call of Feels Like Temperature\n",
        "> https://open-meteo.com/en/docs#latitude=33.5102&longitude=36.2913&hourly=&daily=apparent_temperature_max&timezone=Africa%2FCairo&forecast_days=3\n",
        "\n",
        "* 3-Day Forcecasted Feelslike Temp Max (3DFTM)\n",
        "* 3DFTM + 5\n",
        "* 3DFTM - 10\n",
        "\n",
        "* Risk Score"
      ],
      "metadata": {
        "id": "Q2RIKIVKCMRL"
      }
    },
    {
      "cell_type": "code",
      "execution_count": null,
      "metadata": {
        "id": "e4V2HpqIifUs"
      },
      "outputs": [],
      "source": [
        "import requests\n",
        "\n",
        "# The API URL\n",
        "api_url = \"https://api.open-meteo.com/v1/forecast?latitude=33.5102&longitude=36.2913&daily=apparent_temperature_max&timezone=Africa%2FCairo&forecast_days=3\"\n",
        "# Make the API call\n",
        "response = requests.get(api_url)\n",
        "\n",
        "# Assign the response to a variable\n",
        "forecast_data = response.json()"
      ]
    },
    {
      "cell_type": "code",
      "source": [
        "forecast_data"
      ],
      "metadata": {
        "colab": {
          "base_uri": "https://localhost:8080/"
        },
        "id": "NusTPXN-iysV",
        "outputId": "38701b70-0fc8-4e90-b782-9d841ac34ad4"
      },
      "execution_count": null,
      "outputs": [
        {
          "output_type": "execute_result",
          "data": {
            "text/plain": [
              "{'latitude': 33.5,\n",
              " 'longitude': 36.3125,\n",
              " 'generationtime_ms': 0.05996227264404297,\n",
              " 'utc_offset_seconds': 10800,\n",
              " 'timezone': 'Africa/Cairo',\n",
              " 'timezone_abbreviation': 'EEST',\n",
              " 'elevation': 704.0,\n",
              " 'daily_units': {'time': 'iso8601', 'apparent_temperature_max': '°C'},\n",
              " 'daily': {'time': ['2023-10-05', '2023-10-06', '2023-10-07'],\n",
              "  'apparent_temperature_max': [24.5, 30.0, 28.7]}}"
            ]
          },
          "metadata": {},
          "execution_count": 2
        }
      ]
    },
    {
      "cell_type": "code",
      "source": [
        "current = forecast_data['daily']\n",
        "current"
      ],
      "metadata": {
        "colab": {
          "base_uri": "https://localhost:8080/"
        },
        "id": "nZ9t-khatepr",
        "outputId": "6bd5dea3-4739-4674-a404-81265a79ee6d"
      },
      "execution_count": null,
      "outputs": [
        {
          "output_type": "execute_result",
          "data": {
            "text/plain": [
              "{'time': ['2023-10-05', '2023-10-06', '2023-10-07'],\n",
              " 'apparent_temperature_max': [24.5, 30.0, 28.7]}"
            ]
          },
          "metadata": {},
          "execution_count": 3
        }
      ]
    },
    {
      "cell_type": "code",
      "source": [
        "hottest = max(forecast_data['daily']['apparent_temperature_max'])"
      ],
      "metadata": {
        "id": "0K_syjZk7bAK"
      },
      "execution_count": null,
      "outputs": []
    },
    {
      "cell_type": "markdown",
      "source": [
        "### Max Feels Like Temperature of the Days"
      ],
      "metadata": {
        "id": "TsgBGHzFDA6Y"
      }
    },
    {
      "cell_type": "code",
      "source": [
        "feelslike = []\n",
        "for temp in current['apparent_temperature_max']:\n",
        "  feelslike.append(temp)\n",
        "\n",
        "feelslike"
      ],
      "metadata": {
        "colab": {
          "base_uri": "https://localhost:8080/"
        },
        "id": "EidAEbIxC3Dg",
        "outputId": "284f777d-397d-473c-c259-ef6e804afecd"
      },
      "execution_count": null,
      "outputs": [
        {
          "output_type": "execute_result",
          "data": {
            "text/plain": [
              "[27.2, 22.6, 29.3]"
            ]
          },
          "metadata": {},
          "execution_count": 4
        }
      ]
    },
    {
      "cell_type": "code",
      "source": [
        "hottest = max(feelslike)\n",
        "hottest"
      ],
      "metadata": {
        "colab": {
          "base_uri": "https://localhost:8080/"
        },
        "id": "WaDHWkjgeyMF",
        "outputId": "be62066c-0cbd-4ee8-bc24-48d6dc252699"
      },
      "execution_count": null,
      "outputs": [
        {
          "output_type": "execute_result",
          "data": {
            "text/plain": [
              "29.3"
            ]
          },
          "metadata": {},
          "execution_count": 17
        }
      ]
    },
    {
      "cell_type": "markdown",
      "source": [
        "### Risk Score\n",
        "\n",
        "Output from model:"
      ],
      "metadata": {
        "id": "JL3Zu18nDR-M"
      }
    },
    {
      "cell_type": "code",
      "source": [
        "risk_score = 'Very High Risk'"
      ],
      "metadata": {
        "id": "gScnpFQXDRMe"
      },
      "execution_count": null,
      "outputs": []
    },
    {
      "cell_type": "code",
      "source": [
        "riskscore = 'Very High Risk'\n"
      ],
      "metadata": {
        "id": "Vfe1C0hL9MpW"
      },
      "execution_count": null,
      "outputs": []
    },
    {
      "cell_type": "markdown",
      "source": [
        "# Risk Matrix Plot for Damascus"
      ],
      "metadata": {
        "id": "megtpwHpv3YN"
      }
    },
    {
      "cell_type": "code",
      "source": [
        "import warnings\n",
        "\n",
        "warnings.filterwarnings(\"ignore\")"
      ],
      "metadata": {
        "id": "yFPUbmjJu1-l"
      },
      "execution_count": null,
      "outputs": []
    },
    {
      "cell_type": "code",
      "source": [
        "import numpy as np\n",
        "import seaborn as sns\n",
        "import matplotlib as mpl\n",
        "import matplotlib.pyplot as plt\n",
        "\n",
        "fig, ax = plt.subplots()\n",
        "\n",
        "highest = int(hottest + 5) # +5 because highest temp av = 36.5 and 36.5+5 was recorded as a heatwave in Damascus\n",
        "\n",
        "lowest = int(hottest - 5)\n",
        "\n",
        "\n",
        "x_labels = [1, 2, 3, 4]\n",
        "y_labels = [highest, hottest, lowest]\n",
        "risk_matrix = np.array([[(highest+lowest)/2, (((highest+lowest)/2)+((highest+hottest)/2))/2,(highest+hottest)/2, highest],[(hottest+lowest)/2, ((hottest+lowest)/2+hottest)/2, hottest, (hottest+highest)/2], [lowest, (lowest+(lowest+hottest)/2)/2,(lowest+hottest)/2, (lowest+highest)/2]])\n",
        "\n",
        "colorscale = {42:'#FF0000', 41:'#FF2200', 40:'#FF4400', 39: '#FF6600', 38:'#FF8800', 37: '#FF9900', 36: '#FFBB00', 35: '#FFCC00', 34: '#FFEE00', 33: '#FFFF00', 32: '#E1FF00', 31: '#C8FF00', 30: '#96FF00', 29: '#75CF7E'}\n",
        "\n",
        "high = '#75CF7E'\n",
        "low = '#75CF7E'\n",
        "for temp,hex in colorscale.items():\n",
        "  if int(highest) > 42:\n",
        "    high = colorscale[42]\n",
        "  if int(lowest) > 42:\n",
        "    high = colorscale[42]\n",
        "  if int(highest) == temp:\n",
        "    high = colorscale[temp]\n",
        "  if int(lowest) == temp:\n",
        "    low = colorscale[temp]\n",
        "\n",
        "colors = sns.color_palette(f\"blend:{low},{high}\", as_cmap=True)\n",
        "# Create a heatmap plot with a viridis colormap and custom labels\n",
        "sns.heatmap(risk_matrix, cmap= colors, xticklabels=x_labels, yticklabels=y_labels, cbar=False)\n",
        "\n",
        "x_label_to_highlight = riskscore # X-label\n",
        "if riskscore == 'Low Risk':\n",
        "  x_index = 0\n",
        "if riskscore == 'At Risk':\n",
        "  x_index = 1\n",
        "if riskscore == 'High Risk':\n",
        "  x_index = 2\n",
        "if riskscore == 'Very High Risk':\n",
        "  x_index = 3\n",
        "\n",
        "y_label_to_highlight = hottest # Y-label1\n",
        "y_index = y_labels.index(y_label_to_highlight)\n",
        "\n",
        "\n",
        "plt.scatter(x_index+0.5, y_index+0.5, color='black', marker='x', s=100)\n",
        "\n",
        "plt.xlabel(\"Vulnerability Scale\")\n",
        "plt.ylabel(\"Temperature (C)\")\n",
        "plt.yticks(rotation = 0)\n",
        "# Set the title\n",
        "plt.title(f\"Your Heat-Health Risk Chart for the Next 3 Days\")\n",
        "\n",
        "# Show the plot\n",
        "# Add a legend\n",
        "colors = sns.color_palette(f\"blend:#75CF7E,#96FF00,#FFEE00,#FF9900,#FF0000\", as_cmap=True)\n",
        "cbar = plt.colorbar(mpl.cm.ScalarMappable(cmap=colors), label=\"Risk Level\")\n",
        "cbar.set_ticklabels([\"\", \"\", \"Low Risk\", \"At Risk\", 'High Risk', 'Very High Risk'])\n",
        "plt.show()\n"
      ],
      "metadata": {
        "colab": {
          "base_uri": "https://localhost:8080/",
          "height": 563
        },
        "id": "IY52fO8f8Fvr",
        "outputId": "bbe87d7f-b150-493c-9123-e97418806969"
      },
      "execution_count": null,
      "outputs": [
        {
          "output_type": "stream",
          "name": "stderr",
          "text": [
            "<ipython-input-17-f8319c48fb2c>:60: MatplotlibDeprecationWarning: Unable to determine Axes to steal space for Colorbar. Using gca(), but will raise in the future. Either provide the *cax* argument to use as the Axes for the Colorbar, provide the *ax* argument to steal space from it, or add *mappable* to an Axes.\n",
            "  cbar = plt.colorbar(mpl.cm.ScalarMappable(cmap=colors), label=\"Risk Level\")\n",
            "<ipython-input-17-f8319c48fb2c>:61: UserWarning: FixedFormatter should only be used together with FixedLocator\n",
            "  cbar.set_ticklabels([\"\", \"\", \"Low Risk\", \"At Risk\", 'High Risk', 'Very High Risk'])\n"
          ]
        },
        {
          "output_type": "display_data",
          "data": {
            "text/plain": [
              "<Figure size 640x480 with 2 Axes>"
            ],
            "image/png": "[encoded data removed]"
          },
          "metadata": {}
        }
      ]
    }
  ]
}